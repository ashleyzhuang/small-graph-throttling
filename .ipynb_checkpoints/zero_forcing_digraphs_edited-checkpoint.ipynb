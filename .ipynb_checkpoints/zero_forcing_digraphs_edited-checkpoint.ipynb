{
 "cells": [
  {
   "cell_type": "code",
   "execution_count": 15,
   "metadata": {},
   "outputs": [],
   "source": [
    "# source: https://sage.math.iastate.edu/home/pub/74/\n",
    "\n",
    "def made_changes() :\n",
    "    print('Goodbye 2020!!!')\n",
    "\n",
    "def zero_forcing_original(G,prop_time = False):\n",
    "    \"\"\"\n",
    "    INPUT:   G a directed/oriented graph with vertices labeled 0,...,(n-1)\n",
    "    OUTPUT:  a minimal zero forcing set\n",
    "    If prop_time = True then also finds set with min prop time\n",
    "    \"\"\"\n",
    "    n = G.order()\n",
    "    nbrs = []  # Find lists of out neighbors (for push_zeros)\n",
    "    for v in range(n):\n",
    "        out_nbrs = []\n",
    "        for e in G.outgoing_edges(v):\n",
    "            if e[0]==v:\n",
    "                out_nbrs.append(e[1])\n",
    "            else:\n",
    "                out_nbrs.append(e[0])\n",
    "        nbrs.append(out_nbrs)\n",
    "    found_Z = False  # a flag used for knowing when to stop outer loop\n",
    "    best = (0,n)  # used for prop time\n",
    "    for t in range(1,n+1):  # here t represents size of zero forcing sets\n",
    "        for S in Combinations(range(n),t):\n",
    "            Q = push_zeros_original(nbrs,S,n)  # what can be achieved coloring S blue\n",
    "            if len(Q[0]) == n:  # all blue?\n",
    "                if not prop_time:\n",
    "                    return S  # if not tracking prop time, return zero forcing set\n",
    "                found_Z = True  # flag to stop outer loop after the current size\n",
    "                if Q[1] < best[1]:  # test to see if a better prop time is found\n",
    "                    best = (S,Q[1])  \n",
    "        if found_Z:\n",
    "            return best  # return prop time\n",
    "\n",
    "def push_zeros_original(nbrs,S,n):\n",
    "    \"\"\"\n",
    "    INPUT:   nbrs = a list of all out-neighbors of each vertex\n",
    "             S = an initial set of \"blue\" vertices\n",
    "    OUTPUT:  the set of all vertices forced under repeated\n",
    "             iteration of the color change rule\n",
    "    \"\"\"\n",
    "    active = set(S)  # blue vertices that might be able to force\n",
    "    filled = set(S)  # blue vertices\n",
    "    unfilled = set(range(n)).difference(filled)  # white vertices\n",
    "    force = True\n",
    "    count = -1  # count keeps track of zero forcing rounds\n",
    "    while force:  # keep going until no more forces happen\n",
    "        count += 1  # increase count\n",
    "        force = False\n",
    "        new_active = copy(active)  # copy to be careful with prop time\n",
    "        for v in active:  # check each blue vertex which might force\n",
    "            white_nbrs = set(nbrs[v]).intersection(unfilled)  # find white neighbors\n",
    "            if len(white_nbrs) == 0:  # if no white neighbors, will never force\n",
    "                new_active.remove(v)  # remove from active\n",
    "            elif len(white_nbrs) == 1:  #one white neighbor so can force\n",
    "                force = True\n",
    "                w = white_nbrs.pop()  # the white neighbor that we force\n",
    "                filled.add(w)  # w is now blue\n",
    "                unfilled.remove(w)  # so it's not white\n",
    "                new_active.add(w)  # w might now be able to force\n",
    "                new_active.remove(v)  # but v will never force again\n",
    "        active = copy(new_active)  # update what can be forcing\n",
    "    return filled, count  # return what was changed blue, and how many rounds "
   ]
  },
  {
   "cell_type": "code",
   "execution_count": 19,
   "metadata": {},
   "outputs": [],
   "source": [
    "def zero_forcing_edited(G,prop_time = False):\n",
    "    n = G.order()\n",
    "    nbrs = []  # Find lists of out neighbors (for push_zeros)\n",
    "    for v in range(n):\n",
    "        out_nbrs = []\n",
    "        for e in G.outgoing_edges(v):\n",
    "            if e[0]==v:\n",
    "                out_nbrs.append(e[1])\n",
    "            else:\n",
    "                out_nbrs.append(e[0])\n",
    "        nbrs.append(out_nbrs)\n",
    "    found_Z = False  # a flag used for knowing when to stop outer loop\n",
    "    best = (0,n)  # used for prop time\n",
    "    for t in range(1,n+1):  # here t represents size of zero forcing sets\n",
    "        for S in Combinations(range(n),t):\n",
    "            Q = push_zeros_edited(nbrs,S,n)  # what can be achieved coloring S blue\n",
    "            if len(Q[0]) == n:  # all blue?\n",
    "                if not prop_time:\n",
    "                    return S  # if not tracking prop time, return zero forcing set\n",
    "                found_Z = True  # flag to stop outer loop after the current size\n",
    "                if Q[1] < best[1]:  # test to see if a better prop time is found\n",
    "                    best = (S,Q[1])  \n",
    "        if found_Z:\n",
    "            return best  # return prop time\n",
    "        \n",
    "def push_zeros_edited(nbrs, B, n):\n",
    "    active = set(B)\n",
    "    filled = set(B)\n",
    "    unfilled = set(range(n)).difference(filled)\n",
    "    force = True\n",
    "    prop_time = -1\n",
    "    \n",
    "    while force:  # keep going until no more forces happen\n",
    "        prop_time += 1\n",
    "        force = False\n",
    "        \n",
    "        # copy to be careful with prop time\n",
    "        new_active = active.copy()\n",
    "        new_filled = filled.copy()\n",
    "        new_unfilled = unfilled.copy()\n",
    "        \n",
    "        for v in active:  # check each blue vertex which might force\n",
    "            white_nbrs = set(nbrs[v]).intersection(unfilled)\n",
    "            if len(white_nbrs) == 0:  # if no white neighbors, remove from active\n",
    "                new_active.remove(v)\n",
    "            elif len(white_nbrs) == 1:  # one white neighbor so can force\n",
    "                w = white_nbrs.pop()\n",
    "                new_filled.add(w)  # w is now blue\n",
    "                if w in new_unfilled: # no other vertex in this time step has forced w yet\n",
    "                    force = True \n",
    "                    new_unfilled.remove(w)\n",
    "                new_active.add(w)\n",
    "                new_active.remove(v)\n",
    "        active = new_active.copy()\n",
    "        filled = new_filled.copy()\n",
    "        unfilled = new_unfilled.copy()\n",
    "        \n",
    "    return filled, prop_time"
   ]
  },
  {
   "cell_type": "code",
   "execution_count": 21,
   "metadata": {},
   "outputs": [
    {
     "data": {
      "image/png": "[encoded data removed]",
      "text/plain": [
       "Graphics object consisting of 11 graphics primitives"
      ]
     },
     "metadata": {},
     "output_type": "display_data"
    }
   ],
   "source": [
    "# Tournament on 4 vertices with max throttling num\n",
    "M = matrix([[0,0,0,0],\n",
    "            [1,0,0,0],\n",
    "            [1,1,0,0],\n",
    "            [1,1,1,0]])\n",
    "G2 = DiGraph(M)\n",
    "G2.show() "
   ]
  },
  {
   "cell_type": "code",
   "execution_count": 22,
   "metadata": {},
   "outputs": [
    {
     "data": {
      "text/plain": [
       "([1, 3], 1)"
      ]
     },
     "execution_count": 22,
     "metadata": {},
     "output_type": "execute_result"
    }
   ],
   "source": [
    "zero_forcing_original(G2, prop_time=True)"
   ]
  },
  {
   "cell_type": "code",
   "execution_count": 23,
   "metadata": {},
   "outputs": [
    {
     "data": {
      "text/plain": [
       "([1, 3], 2)"
      ]
     },
     "execution_count": 23,
     "metadata": {},
     "output_type": "execute_result"
    }
   ],
   "source": [
    "zero_forcing_edited(G2, prop_time=True)"
   ]
  },
  {
   "cell_type": "code",
   "execution_count": null,
   "metadata": {},
   "outputs": [],
   "source": []
  }
 ],
 "metadata": {
  "kernelspec": {
   "display_name": "SageMath 9.1",
   "language": "sage",
   "name": "sagemath"
  },
  "language_info": {
   "codemirror_mode": {
    "name": "ipython",
    "version": 3
   },
   "file_extension": ".py",
   "mimetype": "text/x-python",
   "name": "python",
   "nbconvert_exporter": "python",
   "pygments_lexer": "ipython3",
   "version": "3.7.3"
  }
 },
 "nbformat": 4,
 "nbformat_minor": 2
}
